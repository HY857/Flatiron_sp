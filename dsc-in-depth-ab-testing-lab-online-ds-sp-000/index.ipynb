{
 "cells": [
  {
   "cell_type": "markdown",
   "metadata": {},
   "source": [
    "# In Depth A/B Testing - Lab\n",
    "\n",
    "## Introduction\n",
    "\n",
    "In this lab, you'll explore a survey from Kaggle regarding budding data scientists. With this, you'll form some initial hypotheses, and test them using the tools you've acquired to date. \n",
    "\n",
    "## Objectives\n",
    "\n",
    "You will be able to:\n",
    "* Conduct statistical tests on a real-world dataset"
   ]
  },
  {
   "cell_type": "markdown",
   "metadata": {},
   "source": [
    "## Load the Dataset and Perform a Brief Exploration\n",
    "\n",
    "The data is stored in a file called **multipleChoiceResponses_cleaned.csv**. Feel free to check out the original dataset referenced at the bottom of this lab, although this cleaned version will undoubtedly be easier to work with. Additionally, meta-data regarding the questions is stored in a file name **schema.csv**. Load in the data itself as a Pandas DataFrame, and take a moment to briefly get acquainted with it.\n",
    "\n",
    "> Note: If you can't get the file to load properly, try changing the encoding format as in `encoding='latin1'`"
   ]
  },
  {
   "cell_type": "code",
   "execution_count": 74,
   "metadata": {},
   "outputs": [],
   "source": [
    "#Your code here\n",
    "import numpy as np\n",
    "import pandas as pd\n",
    "import matplotlib.pyplot as plt\n",
    "import seaborn as sns\n",
    "sns.set()\n",
    "import scipy.stats as stats"
   ]
  },
  {
   "cell_type": "code",
   "execution_count": 76,
   "metadata": {},
   "outputs": [
    {
     "name": "stdout",
     "output_type": "stream",
     "text": [
      "230\n"
     ]
    },
    {
     "data": {
      "text/html": [
       "<div>\n",
       "<style scoped>\n",
       "    .dataframe tbody tr th:only-of-type {\n",
       "        vertical-align: middle;\n",
       "    }\n",
       "\n",
       "    .dataframe tbody tr th {\n",
       "        vertical-align: top;\n",
       "    }\n",
       "\n",
       "    .dataframe thead th {\n",
       "        text-align: right;\n",
       "    }\n",
       "</style>\n",
       "<table border=\"1\" class=\"dataframe\">\n",
       "  <thead>\n",
       "    <tr style=\"text-align: right;\">\n",
       "      <th></th>\n",
       "      <th>GenderSelect</th>\n",
       "      <th>Country</th>\n",
       "      <th>Age</th>\n",
       "      <th>EmploymentStatus</th>\n",
       "      <th>StudentStatus</th>\n",
       "      <th>LearningDataScience</th>\n",
       "      <th>CodeWriter</th>\n",
       "      <th>CareerSwitcher</th>\n",
       "      <th>CurrentJobTitleSelect</th>\n",
       "      <th>TitleFit</th>\n",
       "      <th>...</th>\n",
       "      <th>JobFactorTitle</th>\n",
       "      <th>JobFactorCompanyFunding</th>\n",
       "      <th>JobFactorImpact</th>\n",
       "      <th>JobFactorRemote</th>\n",
       "      <th>JobFactorIndustry</th>\n",
       "      <th>JobFactorLeaderReputation</th>\n",
       "      <th>JobFactorDiversity</th>\n",
       "      <th>JobFactorPublishingOpportunity</th>\n",
       "      <th>exchangeRate</th>\n",
       "      <th>AdjustedCompensation</th>\n",
       "    </tr>\n",
       "  </thead>\n",
       "  <tbody>\n",
       "    <tr>\n",
       "      <th>0</th>\n",
       "      <td>Non-binary, genderqueer, or gender non-conforming</td>\n",
       "      <td>NaN</td>\n",
       "      <td>NaN</td>\n",
       "      <td>Employed full-time</td>\n",
       "      <td>NaN</td>\n",
       "      <td>NaN</td>\n",
       "      <td>Yes</td>\n",
       "      <td>NaN</td>\n",
       "      <td>DBA/Database Engineer</td>\n",
       "      <td>Fine</td>\n",
       "      <td>...</td>\n",
       "      <td>NaN</td>\n",
       "      <td>NaN</td>\n",
       "      <td>NaN</td>\n",
       "      <td>NaN</td>\n",
       "      <td>NaN</td>\n",
       "      <td>NaN</td>\n",
       "      <td>NaN</td>\n",
       "      <td>NaN</td>\n",
       "      <td>NaN</td>\n",
       "      <td>NaN</td>\n",
       "    </tr>\n",
       "    <tr>\n",
       "      <th>1</th>\n",
       "      <td>Female</td>\n",
       "      <td>United States</td>\n",
       "      <td>30.0</td>\n",
       "      <td>Not employed, but looking for work</td>\n",
       "      <td>NaN</td>\n",
       "      <td>NaN</td>\n",
       "      <td>NaN</td>\n",
       "      <td>NaN</td>\n",
       "      <td>NaN</td>\n",
       "      <td>NaN</td>\n",
       "      <td>...</td>\n",
       "      <td>NaN</td>\n",
       "      <td>NaN</td>\n",
       "      <td>NaN</td>\n",
       "      <td>NaN</td>\n",
       "      <td>NaN</td>\n",
       "      <td>Somewhat important</td>\n",
       "      <td>NaN</td>\n",
       "      <td>NaN</td>\n",
       "      <td>NaN</td>\n",
       "      <td>NaN</td>\n",
       "    </tr>\n",
       "    <tr>\n",
       "      <th>2</th>\n",
       "      <td>Male</td>\n",
       "      <td>Canada</td>\n",
       "      <td>28.0</td>\n",
       "      <td>Not employed, but looking for work</td>\n",
       "      <td>NaN</td>\n",
       "      <td>NaN</td>\n",
       "      <td>NaN</td>\n",
       "      <td>NaN</td>\n",
       "      <td>NaN</td>\n",
       "      <td>NaN</td>\n",
       "      <td>...</td>\n",
       "      <td>Very Important</td>\n",
       "      <td>Very Important</td>\n",
       "      <td>Very Important</td>\n",
       "      <td>Very Important</td>\n",
       "      <td>Very Important</td>\n",
       "      <td>Very Important</td>\n",
       "      <td>Very Important</td>\n",
       "      <td>Very Important</td>\n",
       "      <td>NaN</td>\n",
       "      <td>NaN</td>\n",
       "    </tr>\n",
       "    <tr>\n",
       "      <th>3</th>\n",
       "      <td>Male</td>\n",
       "      <td>United States</td>\n",
       "      <td>56.0</td>\n",
       "      <td>Independent contractor, freelancer, or self-em...</td>\n",
       "      <td>NaN</td>\n",
       "      <td>NaN</td>\n",
       "      <td>Yes</td>\n",
       "      <td>NaN</td>\n",
       "      <td>Operations Research Practitioner</td>\n",
       "      <td>Poorly</td>\n",
       "      <td>...</td>\n",
       "      <td>NaN</td>\n",
       "      <td>NaN</td>\n",
       "      <td>NaN</td>\n",
       "      <td>NaN</td>\n",
       "      <td>NaN</td>\n",
       "      <td>NaN</td>\n",
       "      <td>NaN</td>\n",
       "      <td>NaN</td>\n",
       "      <td>1.0</td>\n",
       "      <td>250000.0</td>\n",
       "    </tr>\n",
       "    <tr>\n",
       "      <th>4</th>\n",
       "      <td>Male</td>\n",
       "      <td>Taiwan</td>\n",
       "      <td>38.0</td>\n",
       "      <td>Employed full-time</td>\n",
       "      <td>NaN</td>\n",
       "      <td>NaN</td>\n",
       "      <td>Yes</td>\n",
       "      <td>NaN</td>\n",
       "      <td>Computer Scientist</td>\n",
       "      <td>Fine</td>\n",
       "      <td>...</td>\n",
       "      <td>NaN</td>\n",
       "      <td>NaN</td>\n",
       "      <td>NaN</td>\n",
       "      <td>NaN</td>\n",
       "      <td>NaN</td>\n",
       "      <td>NaN</td>\n",
       "      <td>NaN</td>\n",
       "      <td>NaN</td>\n",
       "      <td>NaN</td>\n",
       "      <td>NaN</td>\n",
       "    </tr>\n",
       "  </tbody>\n",
       "</table>\n",
       "<p>5 rows × 230 columns</p>\n",
       "</div>"
      ],
      "text/plain": [
       "                                        GenderSelect        Country   Age  \\\n",
       "0  Non-binary, genderqueer, or gender non-conforming            NaN   NaN   \n",
       "1                                             Female  United States  30.0   \n",
       "2                                               Male         Canada  28.0   \n",
       "3                                               Male  United States  56.0   \n",
       "4                                               Male         Taiwan  38.0   \n",
       "\n",
       "                                    EmploymentStatus StudentStatus  \\\n",
       "0                                 Employed full-time           NaN   \n",
       "1                 Not employed, but looking for work           NaN   \n",
       "2                 Not employed, but looking for work           NaN   \n",
       "3  Independent contractor, freelancer, or self-em...           NaN   \n",
       "4                                 Employed full-time           NaN   \n",
       "\n",
       "  LearningDataScience CodeWriter CareerSwitcher  \\\n",
       "0                 NaN        Yes            NaN   \n",
       "1                 NaN        NaN            NaN   \n",
       "2                 NaN        NaN            NaN   \n",
       "3                 NaN        Yes            NaN   \n",
       "4                 NaN        Yes            NaN   \n",
       "\n",
       "              CurrentJobTitleSelect TitleFit  ...  JobFactorTitle  \\\n",
       "0             DBA/Database Engineer     Fine  ...             NaN   \n",
       "1                               NaN      NaN  ...             NaN   \n",
       "2                               NaN      NaN  ...  Very Important   \n",
       "3  Operations Research Practitioner   Poorly  ...             NaN   \n",
       "4                Computer Scientist     Fine  ...             NaN   \n",
       "\n",
       "  JobFactorCompanyFunding JobFactorImpact JobFactorRemote JobFactorIndustry  \\\n",
       "0                     NaN             NaN             NaN               NaN   \n",
       "1                     NaN             NaN             NaN               NaN   \n",
       "2          Very Important  Very Important  Very Important    Very Important   \n",
       "3                     NaN             NaN             NaN               NaN   \n",
       "4                     NaN             NaN             NaN               NaN   \n",
       "\n",
       "  JobFactorLeaderReputation JobFactorDiversity JobFactorPublishingOpportunity  \\\n",
       "0                       NaN                NaN                            NaN   \n",
       "1        Somewhat important                NaN                            NaN   \n",
       "2            Very Important     Very Important                 Very Important   \n",
       "3                       NaN                NaN                            NaN   \n",
       "4                       NaN                NaN                            NaN   \n",
       "\n",
       "  exchangeRate AdjustedCompensation  \n",
       "0          NaN                  NaN  \n",
       "1          NaN                  NaN  \n",
       "2          NaN                  NaN  \n",
       "3          1.0             250000.0  \n",
       "4          NaN                  NaN  \n",
       "\n",
       "[5 rows x 230 columns]"
      ]
     },
     "execution_count": 76,
     "metadata": {},
     "output_type": "execute_result"
    }
   ],
   "source": [
    "data = pd.read_csv('multipleChoiceResponses_cleaned.csv')\n",
    "print(len(data.columns))\n",
    "data.head()\n"
   ]
  },
  {
   "cell_type": "markdown",
   "metadata": {},
   "source": [
    "## Wages and Education\n",
    "\n",
    "You've been asked to determine whether education is impactful to salary. Develop a hypothesis test to compare the salaries of those with Master's degrees to those with Bachelor's degrees. Are the two statistically different according to your results?\n",
    "\n",
    "> Note: The relevant features are stored in the 'FormalEducation' and 'AdjustedCompensation' features."
   ]
  },
  {
   "cell_type": "code",
   "execution_count": 82,
   "metadata": {
    "scrolled": true
   },
   "outputs": [
    {
     "name": "stdout",
     "output_type": "stream",
     "text": [
      "Mean salary: bachelor--64887.09799461879, masters--69139.89987120005\n",
      "Median salary: bachelor--38399.4, masters--53812.17000000001\n",
      "std: bachelor--306935.87238797836, masters--135527.20850458278\n",
      "Now, let us explore if this difference is statistically significant:\n",
      "\n"
     ]
    }
   ],
   "source": [
    "#Your code here\n",
    "bachelors = data[data.FormalEducation == \"Bachelor's degree\"].AdjustedCompensation\n",
    "bachelors = bachelors[bachelors.notnull() == True]\n",
    "bachelors_mean = round(bachelors.mean(),2)\n",
    "masters = data[data.FormalEducation == \"Master's degree\"].AdjustedCompensation\n",
    "masters = masters[masters.notnull() == True]\n",
    "masters_mean = round(masters.mean(),2)\n",
    "print(f'Mean salary: bachelor--{bachelors.mean()}, masters--{masters.mean()}')\n",
    "print(f'Median salary: bachelor--{bachelors.median()}, masters--{masters.median()}')\n",
    "print(f'std: bachelor--{bachelors.std()}, masters--{masters.std()}')\n",
    "print('Now, let us explore if this difference is statistically significant:\\n')"
   ]
  },
  {
   "cell_type": "code",
   "execution_count": 112,
   "metadata": {
    "scrolled": false
   },
   "outputs": [
    {
     "data": {
      "image/png": "[encoded data removed]",
      "text/plain": [
       "<Figure size 432x288 with 1 Axes>"
      ]
     },
     "metadata": {},
     "output_type": "display_data"
    }
   ],
   "source": [
    "sns.distplot(bachelors, bins = 40)\n",
    "sns.distplot(masters, bins = 40)\n",
    "plt.show()"
   ]
  },
  {
   "cell_type": "code",
   "execution_count": 95,
   "metadata": {
    "scrolled": false
   },
   "outputs": [
    {
     "name": "stdout",
     "output_type": "stream",
     "text": [
      "bachelors 93233.1 vs. masters 103000.0 at 80.0%\n",
      "bachelors 95572.8 vs. masters 107009.0 at 81.0%\n",
      "bachelors 99276.4 vs. masters 110000.0 at 82.0%\n",
      "bachelors 100000.0 vs. masters 111503.8 at 83.0%\n",
      "bachelors 103040.0 vs. masters 115240.4 at 84.0%\n",
      "bachelors 105935.0 vs. masters 119582.6 at 85.0%\n",
      "bachelors 110000.0 vs. masters 120000.0 at 86.0%\n",
      "bachelors 112000.0 vs. masters 124719.9 at 87.0%\n",
      "bachelors 115000.0 vs. masters 129421.5 at 88.0%\n",
      "bachelors 120000.0 vs. masters 130000.0 at 89.0%\n",
      "bachelors 120346.5 vs. masters 135000.0 at 90.0%\n",
      "bachelors 126460.0 vs. masters 140000.0 at 91.0%\n",
      "bachelors 132615.4 vs. masters 149640.0 at 92.0%\n",
      "bachelors 140000.0 vs. masters 150000.0 at 93.0%\n",
      "bachelors 143408.8 vs. masters 160000.0 at 94.0%\n",
      "bachelors 150000.0 vs. masters 166778.6 at 95.0%\n",
      "bachelors 179849.7 vs. masters 180000.0 at 96.0%\n",
      "bachelors 195000.0 vs. masters 200000.0 at 97.0%\n",
      "bachelors 200000.0 vs. masters 211100.0 at 98.0%\n",
      "bachelors 250000.0 vs. masters 250000.0 at 99.0%\n",
      "bachelors 9999999.0 vs. masters 4498900.0 at 100.0%\n"
     ]
    }
   ],
   "source": [
    "for i in np.linspace(0.8,1,21):\n",
    "    print (f'bachelors {round(bachelors.quantile(i),1)} vs. masters {round(masters.quantile(i),1)} at {round(i*100,2)}%')"
   ]
  },
  {
   "cell_type": "code",
   "execution_count": 111,
   "metadata": {
    "scrolled": true
   },
   "outputs": [
    {
     "data": {
      "text/plain": [
       "Ttest_indResult(statistic=-0.43786693335411514, pvalue=0.6615527890254489)"
      ]
     },
     "execution_count": 111,
     "metadata": {},
     "output_type": "execute_result"
    }
   ],
   "source": [
    "stats.ttest_ind(bachelors,masters, equal_var=False)"
   ]
  },
  {
   "cell_type": "code",
   "execution_count": 135,
   "metadata": {},
   "outputs": [
    {
     "data": {
      "text/plain": [
       "Ttest_indResult(statistic=-6.74850841720402, pvalue=1.8751556333212378e-11)"
      ]
     },
     "execution_count": 135,
     "metadata": {},
     "output_type": "execute_result"
    }
   ],
   "source": [
    "bachelors_modified = bachelors[bachelors < bachelors.quantile(0.98)]\n",
    "masters_modified = masters[masters < masters.quantile(0.98)]\n",
    "stats.ttest_ind(bachelors_modified,masters_modified, equal_var=False)"
   ]
  },
  {
   "cell_type": "code",
   "execution_count": 136,
   "metadata": {},
   "outputs": [
    {
     "data": {
      "image/png": "[encoded data removed]",
      "text/plain": [
       "<Figure size 432x288 with 1 Axes>"
      ]
     },
     "metadata": {},
     "output_type": "display_data"
    }
   ],
   "source": [
    "sns.distplot(bachelors_modified, bins = 100, color = 'blue', label = 'bachelor w/o outliers')\n",
    "sns.distplot(masters_modified, bins = 100, color = 'red', label = 'master w/o outliers')\n",
    "plt.legend()\n",
    "plt.show()"
   ]
  },
  {
   "cell_type": "markdown",
   "metadata": {},
   "source": [
    "## Wages and Education II\n",
    "\n",
    "Now perform a similar statistical test comparing the AdjustedCompensation of those with Bachelor's degrees and those with Doctorates. If you haven't already, be sure to explore the distribution of the AdjustedCompensation feature for any anomalies. "
   ]
  },
  {
   "cell_type": "code",
   "execution_count": 137,
   "metadata": {
    "scrolled": true
   },
   "outputs": [
    {
     "name": "stdout",
     "output_type": "stream",
     "text": [
      "Mean salary: bachelor--64887.09799461879, doctors--29566175.76245311\n",
      "Median salary: bachelor--38399.4, doctors--74131.91999999997\n",
      "std: bachelor--306935.87238797836, doctors--909998082.3346782\n",
      "Now, let us explore if this difference is statistically significant:\n",
      "\n"
     ]
    }
   ],
   "source": [
    "doctors = data[data.FormalEducation == \"Doctoral degree\"].AdjustedCompensation\n",
    "doctors = doctors[doctors.notnull() == True]\n",
    "doctors_mean = round(doctors.mean(),2)\n",
    "print(f'Mean salary: bachelor--{bachelors.mean()}, doctors--{doctors.mean()}')\n",
    "print(f'Median salary: bachelor--{bachelors.median()}, doctors--{doctors.median()}')\n",
    "print(f'std: bachelor--{bachelors.std()}, doctors--{doctors.std()}')\n",
    "print('Now, let us explore if this difference is statistically significant:\\n')"
   ]
  },
  {
   "cell_type": "code",
   "execution_count": 138,
   "metadata": {
    "scrolled": true
   },
   "outputs": [
    {
     "data": {
      "image/png": "[encoded data removed]",
      "text/plain": [
       "<Figure size 432x288 with 1 Axes>"
      ]
     },
     "metadata": {},
     "output_type": "display_data"
    }
   ],
   "source": [
    "sns.distplot(bachelors, bins = 40)\n",
    "sns.distplot(doctors, bins = 40)\n",
    "plt.show()"
   ]
  },
  {
   "cell_type": "code",
   "execution_count": 139,
   "metadata": {
    "scrolled": true
   },
   "outputs": [
    {
     "name": "stdout",
     "output_type": "stream",
     "text": [
      "bachelors 93233.1 vs. doctors 135000.0 at 80.0%\n",
      "bachelors 95572.8 vs. doctors 140000.0 at 81.0%\n",
      "bachelors 99276.4 vs. doctors 140000.0 at 82.0%\n",
      "bachelors 100000.0 vs. doctors 146796.2 at 83.0%\n",
      "bachelors 103040.0 vs. doctors 150000.0 at 84.0%\n",
      "bachelors 105935.0 vs. doctors 150000.0 at 85.0%\n",
      "bachelors 110000.0 vs. doctors 155000.0 at 86.0%\n",
      "bachelors 112000.0 vs. doctors 160000.0 at 87.0%\n",
      "bachelors 115000.0 vs. doctors 160000.0 at 88.0%\n",
      "bachelors 120000.0 vs. doctors 166480.0 at 89.0%\n",
      "bachelors 120346.5 vs. doctors 172057.8 at 90.0%\n",
      "bachelors 126460.0 vs. doctors 175000.0 at 91.0%\n",
      "bachelors 132615.4 vs. doctors 181555.2 at 92.0%\n",
      "bachelors 140000.0 vs. doctors 191900.0 at 93.0%\n",
      "bachelors 143408.8 vs. doctors 200000.0 at 94.0%\n",
      "bachelors 150000.0 vs. doctors 200000.0 at 95.0%\n",
      "bachelors 179849.7 vs. doctors 220999.6 at 96.0%\n",
      "bachelors 195000.0 vs. doctors 240879.1 at 97.0%\n",
      "bachelors 200000.0 vs. doctors 277349.8 at 98.0%\n",
      "bachelors 250000.0 vs. doctors 336800.0 at 99.0%\n",
      "bachelors 9999999.0 vs. doctors 28297400000.0 at 100.0%\n"
     ]
    }
   ],
   "source": [
    "for i in np.linspace(0.8,1,21):\n",
    "    print (f'bachelors {round(bachelors.quantile(i),1)} vs. doctors {round(doctors.quantile(i),1)} at {round(i*100,2)}%')"
   ]
  },
  {
   "cell_type": "code",
   "execution_count": 140,
   "metadata": {},
   "outputs": [
    {
     "data": {
      "text/plain": [
       "Ttest_indResult(statistic=-14.514019500500968, pvalue=3.444331501789261e-45)"
      ]
     },
     "execution_count": 140,
     "metadata": {},
     "output_type": "execute_result"
    }
   ],
   "source": [
    "doctors_modified = doctors[doctors < doctors.quantile(0.98)]\n",
    "stats.ttest_ind(bachelors_modified,doctors_modified, equal_var=False)"
   ]
  },
  {
   "cell_type": "code",
   "execution_count": 141,
   "metadata": {},
   "outputs": [
    {
     "data": {
      "image/png": "[encoded data removed]",
      "text/plain": [
       "<Figure size 432x288 with 1 Axes>"
      ]
     },
     "metadata": {},
     "output_type": "display_data"
    }
   ],
   "source": [
    "sns.distplot(bachelors_modified, bins = 100, color = 'blue', label = 'bachelor w/o outliers')\n",
    "sns.distplot(doctors_modified, bins = 100, color = 'red', label = 'doctors w/o outliers')\n",
    "plt.legend()\n",
    "plt.show()"
   ]
  },
  {
   "cell_type": "markdown",
   "metadata": {},
   "source": [
    "## Wages and Education III\n",
    "\n",
    "Remember the multiple comparisons problem; rather than continuing on like this, perform an ANOVA test between the various 'FormalEducation' categories and their relation to 'AdjustedCompensation'."
   ]
  },
  {
   "cell_type": "code",
   "execution_count": 144,
   "metadata": {},
   "outputs": [
    {
     "name": "stdout",
     "output_type": "stream",
     "text": [
      "                     df        sum_sq       mean_sq         F    PR(>F)\n",
      "FormalEducation     6.0  6.540294e+17  1.090049e+17  0.590714  0.738044\n",
      "Residual         4335.0  7.999414e+20  1.845309e+17       NaN       NaN\n"
     ]
    }
   ],
   "source": [
    "#Your code here\n",
    "from statsmodels.stats import anova\n",
    "from statsmodels.formula.api import ols\n",
    "model1 = ols('AdjustedCompensation~FormalEducation', data = data).fit()\n",
    "result = anova.anova_lm(model1)\n",
    "print(result)"
   ]
  },
  {
   "cell_type": "code",
   "execution_count": 146,
   "metadata": {},
   "outputs": [
    {
     "name": "stdout",
     "output_type": "stream",
     "text": [
      "                     df        sum_sq       mean_sq          F        PR(>F)\n",
      "FormalEducation     6.0  4.024018e+11  6.706697e+10  28.335072  2.188106e-33\n",
      "Residual         4228.0  1.000736e+13  2.366924e+09        NaN           NaN\n"
     ]
    }
   ],
   "source": [
    "model2 = ols('AdjustedCompensation~FormalEducation', data = data[data.AdjustedCompensation < masters.quantile(0.98)]).fit()\n",
    "result = anova.anova_lm(model2)\n",
    "print(result)"
   ]
  },
  {
   "cell_type": "markdown",
   "metadata": {},
   "source": [
    "## Additional Resources\n",
    "\n",
    "Here's the original source where the data was taken from:  \n",
    "    [Kaggle Machine Learning & Data Science Survey 2017](https://www.kaggle.com/kaggle/kaggle-survey-2017)"
   ]
  },
  {
   "cell_type": "markdown",
   "metadata": {},
   "source": [
    "## Summary\n",
    "\n",
    "In this lab, you practiced conducting actual hypothesis tests on actual data. From this, you saw how dependent results can be on the initial problem formulation, including preprocessing!"
   ]
  }
 ],
 "metadata": {
  "kernelspec": {
   "display_name": "Python 3",
   "language": "python",
   "name": "python3"
  },
  "language_info": {
   "codemirror_mode": {
    "name": "ipython",
    "version": 3
   },
   "file_extension": ".py",
   "mimetype": "text/x-python",
   "name": "python",
   "nbconvert_exporter": "python",
   "pygments_lexer": "ipython3",
   "version": "3.7.3"
  }
 },
 "nbformat": 4,
 "nbformat_minor": 2
}
