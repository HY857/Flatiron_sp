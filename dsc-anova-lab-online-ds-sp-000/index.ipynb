{
 "cells": [
  {
   "cell_type": "markdown",
   "metadata": {},
   "source": [
    "# ANOVA  - Lab\n",
    "\n",
    "## Introduction\n",
    "\n",
    "In this lab, you'll get some brief practice generating an ANOVA table (AOV) and interpreting its output. You'll then also perform some investigations to compare the method to the t-tests you previously employed to conduct hypothesis testing.\n",
    "\n",
    "## Objectives\n",
    "\n",
    "You will be able to:\n",
    "* Use ANOVA for testing multiple pairwise comparisons\n",
    "* Understand and explain the methodology behind ANOVA tests"
   ]
  },
  {
   "cell_type": "markdown",
   "metadata": {},
   "source": [
    "## Loading the Data\n",
    "\n",
    "Start by loading in the data stored in the file **ToothGrowth.csv**."
   ]
  },
  {
   "cell_type": "code",
   "execution_count": 36,
   "metadata": {},
   "outputs": [
    {
     "data": {
      "text/html": [
       "<div>\n",
       "<style scoped>\n",
       "    .dataframe tbody tr th:only-of-type {\n",
       "        vertical-align: middle;\n",
       "    }\n",
       "\n",
       "    .dataframe tbody tr th {\n",
       "        vertical-align: top;\n",
       "    }\n",
       "\n",
       "    .dataframe thead th {\n",
       "        text-align: right;\n",
       "    }\n",
       "</style>\n",
       "<table border=\"1\" class=\"dataframe\">\n",
       "  <thead>\n",
       "    <tr style=\"text-align: right;\">\n",
       "      <th></th>\n",
       "      <th>len</th>\n",
       "      <th>supp</th>\n",
       "      <th>dose</th>\n",
       "    </tr>\n",
       "  </thead>\n",
       "  <tbody>\n",
       "    <tr>\n",
       "      <th>0</th>\n",
       "      <td>4.2</td>\n",
       "      <td>VC</td>\n",
       "      <td>0.5</td>\n",
       "    </tr>\n",
       "    <tr>\n",
       "      <th>1</th>\n",
       "      <td>11.5</td>\n",
       "      <td>VC</td>\n",
       "      <td>0.5</td>\n",
       "    </tr>\n",
       "    <tr>\n",
       "      <th>2</th>\n",
       "      <td>7.3</td>\n",
       "      <td>VC</td>\n",
       "      <td>0.5</td>\n",
       "    </tr>\n",
       "    <tr>\n",
       "      <th>3</th>\n",
       "      <td>5.8</td>\n",
       "      <td>VC</td>\n",
       "      <td>0.5</td>\n",
       "    </tr>\n",
       "    <tr>\n",
       "      <th>4</th>\n",
       "      <td>6.4</td>\n",
       "      <td>VC</td>\n",
       "      <td>0.5</td>\n",
       "    </tr>\n",
       "  </tbody>\n",
       "</table>\n",
       "</div>"
      ],
      "text/plain": [
       "    len supp  dose\n",
       "0   4.2   VC   0.5\n",
       "1  11.5   VC   0.5\n",
       "2   7.3   VC   0.5\n",
       "3   5.8   VC   0.5\n",
       "4   6.4   VC   0.5"
      ]
     },
     "execution_count": 36,
     "metadata": {},
     "output_type": "execute_result"
    }
   ],
   "source": [
    "# Your code here\n",
    "import pandas as pd\n",
    "data = pd.read_csv('ToothGrowth.csv')\n",
    "data.head()"
   ]
  },
  {
   "cell_type": "markdown",
   "metadata": {},
   "source": [
    "## Generating the ANOVA Table\n",
    "\n",
    "Now generate an ANOVA table in order to analyze the influence of the medication and dosage "
   ]
  },
  {
   "cell_type": "code",
   "execution_count": 37,
   "metadata": {},
   "outputs": [],
   "source": [
    "#Your code here\n",
    "from statsmodels.stats import anova\n",
    "from statsmodels.formula.api import ols\n",
    "mod = ols(formula = 'len ~ supp + dose', data = data).fit()"
   ]
  },
  {
   "cell_type": "code",
   "execution_count": 38,
   "metadata": {},
   "outputs": [
    {
     "name": "stdout",
     "output_type": "stream",
     "text": [
      "            df       sum_sq      mean_sq           F        PR(>F)\n",
      "supp       1.0   205.350000   205.350000   11.446768  1.300662e-03\n",
      "dose       1.0  2224.304298  2224.304298  123.988774  6.313519e-16\n",
      "Residual  57.0  1022.555036    17.939562         NaN           NaN\n"
     ]
    }
   ],
   "source": [
    "table = anova.anova_lm(mod)\n",
    "print(table)"
   ]
  },
  {
   "cell_type": "markdown",
   "metadata": {},
   "source": [
    "## Reading the Table\n",
    "\n",
    "Both supplement type and dosage have considerable impacts on tooth length. Dosage has a higher impact."
   ]
  },
  {
   "cell_type": "markdown",
   "metadata": {},
   "source": [
    "## Comparing to T-Tests\n",
    "\n",
    "Now that you've gotten a brief chance to interact with ANOVA, its interesting to compare the results to those from the t-tests you were just working with. With that, start by breaking the data into two samples: those given the OJ supplement, and those given the VC supplement. Afterwards, you'll conduct a t-test to compare the tooth length of these two different samples."
   ]
  },
  {
   "cell_type": "code",
   "execution_count": 39,
   "metadata": {},
   "outputs": [],
   "source": [
    "#Your code here\n",
    "vc = data[data.supp == 'VC']\n",
    "oj = data[data.supp == 'OJ']"
   ]
  },
  {
   "cell_type": "markdown",
   "metadata": {},
   "source": [
    "Now compare a t-test between these two groups and print the associated two-sided p-value."
   ]
  },
  {
   "cell_type": "code",
   "execution_count": 40,
   "metadata": {},
   "outputs": [
    {
     "data": {
      "text/plain": [
       "Ttest_indResult(statistic=-1.91526826869527, pvalue=0.06039337122412849)"
      ]
     },
     "execution_count": 40,
     "metadata": {},
     "output_type": "execute_result"
    }
   ],
   "source": [
    "#Your code here; calculate the 2-sided p-value for a t-test comparing the two supplement groups.\n",
    "import scipy.stats as st\n",
    "st.ttest_ind(vc.len, oj.len)"
   ]
  },
  {
   "cell_type": "markdown",
   "metadata": {},
   "source": [
    "## A 2-Category ANOVA F-Test is Equivalent to a 2-Tailed t-Test!\n",
    "\n",
    "Now, recalculate an ANOVA F-test with only the supplement variable. An ANOVA F-test between two categories is the same as performing a 2-tailed t-Test! So, the p-value in the table should be identical to your calculation above.\n",
    "\n",
    "> Note: there may be a small fractional difference (>0.001) between the two values due to a rounding error between implementations. "
   ]
  },
  {
   "cell_type": "code",
   "execution_count": 41,
   "metadata": {},
   "outputs": [
    {
     "name": "stdout",
     "output_type": "stream",
     "text": [
      "            df       sum_sq     mean_sq         F    PR(>F)\n",
      "supp       1.0   205.350000  205.350000  3.668253  0.060393\n",
      "Residual  58.0  3246.859333   55.980333       NaN       NaN\n"
     ]
    }
   ],
   "source": [
    "#Your code here; conduct an ANOVA F-test of the oj and vc supplement groups.\n",
    "#Compare the p-value to that of the t-test above. \n",
    "#They should match (there may be a tiny fractional difference due to rounding errors in varying implementations)\n",
    "model = ols(formula = 'len ~ supp', data = data).fit()\n",
    "table1 = anova.anova_lm(model)\n",
    "print(table1)"
   ]
  },
  {
   "cell_type": "markdown",
   "metadata": {},
   "source": [
    "## Generating Multiple T-Tests\n",
    "\n",
    "While the 2-category ANOVA test is identical to a 2-tailed t-Test, performing multiple t-tests leads to the multiple comparisons problem. To investigate this, look at the various sample groups you could create from the 2 features: "
   ]
  },
  {
   "cell_type": "code",
   "execution_count": 55,
   "metadata": {},
   "outputs": [],
   "source": [
    "groups = []\n",
    "for group in data.groupby(['supp', 'dose'])['len']:\n",
    "    group_name = group[0]\n",
    "    data_new = group[1]\n",
    "    groups.append(group_name)"
   ]
  },
  {
   "cell_type": "markdown",
   "metadata": {},
   "source": [
    "While bad practice, examine the effects of calculating multiple t-tests with the various combinations of these. To do this, generate all combinations of the above groups. For each pairwise combination, calculate the p-value of a 2 sided t-test. Print the group combinations and their associated p-value for the two-sided t-test."
   ]
  },
  {
   "cell_type": "code",
   "execution_count": 82,
   "metadata": {},
   "outputs": [
    {
     "name": "stdout",
     "output_type": "stream",
     "text": [
      "(('OJ', 0.5), ('OJ', 1.0))\n",
      "(('OJ', 0.5), ('OJ', 2.0))\n",
      "(('OJ', 0.5), ('VC', 0.5))\n",
      "(('OJ', 0.5), ('VC', 1.0))\n",
      "(('OJ', 0.5), ('VC', 2.0))\n",
      "(('OJ', 1.0), ('OJ', 2.0))\n",
      "(('OJ', 1.0), ('VC', 0.5))\n",
      "(('OJ', 1.0), ('VC', 1.0))\n",
      "(('OJ', 1.0), ('VC', 2.0))\n",
      "(('OJ', 2.0), ('VC', 0.5))\n",
      "(('OJ', 2.0), ('VC', 1.0))\n",
      "(('OJ', 2.0), ('VC', 2.0))\n",
      "(('VC', 0.5), ('VC', 1.0))\n",
      "(('VC', 0.5), ('VC', 2.0))\n",
      "(('VC', 1.0), ('VC', 2.0))\n"
     ]
    }
   ],
   "source": [
    "for i in it:\n",
    "    print(i)"
   ]
  },
  {
   "cell_type": "code",
   "execution_count": 89,
   "metadata": {},
   "outputs": [
    {
     "name": "stdout",
     "output_type": "stream",
     "text": [
      "Ttest_indResult(statistic=-5.048634657337134, pvalue=8.357559281443774e-05)\n",
      "Ttest_indResult(statistic=-7.8170212958003695, pvalue=3.4018585295016214e-07)\n",
      "Ttest_indResult(statistic=3.169732783670812, pvalue=0.005303661339923052)\n",
      "Ttest_indResult(statistic=-2.1863610837918044, pvalue=0.04223992429368205)\n",
      "Ttest_indResult(statistic=-6.232482137515355, pvalue=7.025409196997986e-06)\n",
      "Ttest_indResult(statistic=-2.2477612380279295, pvalue=0.03736279585664383)\n",
      "Ttest_indResult(statistic=9.740112783652798, pvalue=1.3372624230559434e-08)\n",
      "Ttest_indResult(statistic=4.03276963371935, pvalue=0.0007807261651774468)\n",
      "Ttest_indResult(statistic=-1.757441811684785, pvalue=0.09583711277517494)\n",
      "Ttest_indResult(statistic=14.966531872499512, pvalue=1.3381068810881244e-11)\n",
      "Ttest_indResult(statistic=8.032500849718918, pvalue=2.3131084633597503e-07)\n",
      "Ttest_indResult(statistic=-0.04613610490923075, pvalue=0.9637097790041267)\n",
      "Ttest_indResult(statistic=-7.463430071764639, pvalue=6.492264598157612e-07)\n",
      "Ttest_indResult(statistic=-10.387795220200882, pvalue=4.957285658438862e-09)\n",
      "Ttest_indResult(statistic=-5.469813691189401, pvalue=3.397577925539582e-05)\n"
     ]
    }
   ],
   "source": [
    "#Your code here; reuse your $t$-test code above to calculate the p-value for a 2-sided $t$-test\n",
    "#for all combinations of the supplement-dose groups listed above. \n",
    "#(Since there isn't a control group, compare each group to every other group.)\n",
    "from itertools import combinations\n",
    "it = combinations(groups,2)\n",
    "for i in it:\n",
    "    sample1 = data[(data.supp == i[0][0])&(data.dose == i[0][1])]\n",
    "    sample2 = data[(data.supp == i[1][0])&(data.dose == i[1][1])]\n",
    "    print(st.ttest_ind(sample1.len, sample2.len))\n",
    "              "
   ]
  },
  {
   "cell_type": "markdown",
   "metadata": {},
   "source": [
    "## Summary\n",
    "\n",
    "In this lesson, you examined the ANOVA technique to generalize A/B testing methods to multiple groups and factors."
   ]
  }
 ],
 "metadata": {
  "kernelspec": {
   "display_name": "Python 3",
   "language": "python",
   "name": "python3"
  },
  "language_info": {
   "codemirror_mode": {
    "name": "ipython",
    "version": 3
   },
   "file_extension": ".py",
   "mimetype": "text/x-python",
   "name": "python",
   "nbconvert_exporter": "python",
   "pygments_lexer": "ipython3",
   "version": "3.7.3"
  }
 },
 "nbformat": 4,
 "nbformat_minor": 2
}
