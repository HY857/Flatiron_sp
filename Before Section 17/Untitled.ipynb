{
 "cells": [
  {
   "cell_type": "code",
   "execution_count": 2,
   "metadata": {},
   "outputs": [],
   "source": [
    "import pymongo"
   ]
  },
  {
   "cell_type": "code",
   "execution_count": 15,
   "metadata": {},
   "outputs": [],
   "source": [
    "myclient = pymongo.MongoClient(\"mongodb://localhost:27017/\")\n",
    "mydb = myclient['lab_db']"
   ]
  },
  {
   "cell_type": "code",
   "execution_count": 17,
   "metadata": {},
   "outputs": [
    {
     "data": {
      "text/plain": [
       "Database(MongoClient(host=['localhost:27017'], document_class=dict, tz_aware=False, connect=True), 'lab_db')"
      ]
     },
     "execution_count": 17,
     "metadata": {},
     "output_type": "execute_result"
    }
   ],
   "source": [
    "mydb"
   ]
  },
  {
   "cell_type": "code",
   "execution_count": 18,
   "metadata": {},
   "outputs": [],
   "source": [
    "mycollection = mydb['lab_collection']"
   ]
  },
  {
   "cell_type": "code",
   "execution_count": 19,
   "metadata": {},
   "outputs": [
    {
     "data": {
      "text/plain": [
       "Collection(Database(MongoClient(host=['localhost:27017'], document_class=dict, tz_aware=False, connect=True), 'lab_db'), 'lab_collection')"
      ]
     },
     "execution_count": 19,
     "metadata": {},
     "output_type": "execute_result"
    }
   ],
   "source": [
    "mycollection"
   ]
  },
  {
   "cell_type": "code",
   "execution_count": 20,
   "metadata": {},
   "outputs": [],
   "source": [
    "customer_1 = {'Name': 'John Smith', 'Email': 'j.smith@thesmiths.com', 'Mailing_Address': '123 mulberry lane', 'Balance': 0.0, 'Notes': 'Called technical support, issue not yet resolved.'}\n",
    "customer_2 = {'Name': 'Jane Smith', 'Email': 'jane_smith@thesmiths.com', 'Balance': 25.0}\n",
    "customer_3 = {'Name': 'Adam Enbar', 'Email': 'adam@theflatironschool.com', 'Mailing_Address': '11 Broadway', 'Balance': 14.99, 'Notes': 'Set up on recurring billing cycle.'}\n",
    "customer_4 = {'Name': 'Avi Flombaum', 'Email': 'avi@theflatironschool.com', 'Mailing_Address': '11 Broadway', 'Balance': 0.0}\n",
    "customer_5 = {'Name': 'Steven S.', 'Email': 'steven.s@gmail.net', 'Balance': -20.23, 'Notes': 'Refunded for overpayment due to price match guarantee.'}\n",
    "\n",
    "all_records = [customer_1, customer_2, customer_3, customer_4, customer_5]\n",
    "\n",
    "insertion_results = mycollection.insert_many(all_records)"
   ]
  },
  {
   "cell_type": "code",
   "execution_count": 23,
   "metadata": {},
   "outputs": [
    {
     "data": {
      "text/plain": [
       "[ObjectId('5d34beda0b081fad65634e72'),\n",
       " ObjectId('5d34beda0b081fad65634e73'),\n",
       " ObjectId('5d34beda0b081fad65634e74'),\n",
       " ObjectId('5d34beda0b081fad65634e75'),\n",
       " ObjectId('5d34beda0b081fad65634e76')]"
      ]
     },
     "execution_count": 23,
     "metadata": {},
     "output_type": "execute_result"
    }
   ],
   "source": [
    "insertion_results.inserted_ids"
   ]
  },
  {
   "cell_type": "code",
   "execution_count": 26,
   "metadata": {},
   "outputs": [
    {
     "name": "stdout",
     "output_type": "stream",
     "text": [
      "{'_id': ObjectId('5d34beda0b081fad65634e72'), 'Name': 'John Smith', 'Email': 'j.smith@thesmiths.com', 'Mailing_Address': '123 mulberry lane', 'Balance': 0.0, 'Notes': 'Called technical support, issue not yet resolved.'}\n"
     ]
    }
   ],
   "source": [
    "query_2 = mycollection.find({'Name': 'John Smith'})\n",
    "for item in query_2:\n",
    "    print(item)"
   ]
  },
  {
   "cell_type": "code",
   "execution_count": 27,
   "metadata": {},
   "outputs": [
    {
     "name": "stdout",
     "output_type": "stream",
     "text": [
      "{'_id': ObjectId('5d34beda0b081fad65634e73'), 'Name': 'Jane Smith', 'Email': 'jane_smith@thesmiths.com', 'Balance': 25.0}\n",
      "{'_id': ObjectId('5d34beda0b081fad65634e74'), 'Name': 'Adam Enbar', 'Email': 'adam@theflatironschool.com', 'Balance': 14.99}\n"
     ]
    }
   ],
   "source": [
    "query_3 = mycollection.find({'Balance': {'$gt': 0}}, {'Name': 1, 'Email': 1, 'Balance': 1},)\n",
    "for item in query_3:\n",
    "    print(item)"
   ]
  },
  {
   "cell_type": "code",
   "execution_count": 28,
   "metadata": {},
   "outputs": [
    {
     "data": {
      "text/plain": [
       "<pymongo.results.UpdateResult at 0x10e4b1b88>"
      ]
     },
     "execution_count": 28,
     "metadata": {},
     "output_type": "execute_result"
    }
   ],
   "source": [
    "record_to_update_1 = {'Name': 'John Smith'}\n",
    "update_1 = {'$set': {'Mailing_Address': '367 55th St., apt 2A'}}\n",
    "mycollection.update_one(record_to_update_1, update_1)"
   ]
  },
  {
   "cell_type": "code",
   "execution_count": 29,
   "metadata": {},
   "outputs": [
    {
     "name": "stdout",
     "output_type": "stream",
     "text": [
      "{'_id': ObjectId('5d34beda0b081fad65634e72'), 'Name': 'John Smith', 'Email': 'j.smith@thesmiths.com', 'Mailing_Address': '367 55th St., apt 2A', 'Balance': 0.0, 'Notes': 'Called technical support, issue not yet resolved.'}\n"
     ]
    }
   ],
   "source": [
    "query_4 = mycollection.find({'Name': 'John Smith'})\n",
    "for item in query_4:\n",
    "    print(item)"
   ]
  },
  {
   "cell_type": "code",
   "execution_count": 30,
   "metadata": {},
   "outputs": [],
   "source": [
    "names_list = ['John Smith', 'Jane Smith', 'Adam Enbar', 'Avi Flombaum', 'Steven S.']\n",
    "birthdays_list = ['02/20/1986', '07/07/1983', '12/02/0982', '04/17/1983', '08/30/1991']\n",
    "\n",
    "def update_birthdays(names, birthdays):\n",
    "    for ind, name in enumerate(names):\n",
    "        birthday = birthdays_list[ind]\n",
    "        query = {'Name': name}\n",
    "        update = {'$set': {'Birthday': birthday}}\n",
    "        mycollection.update_one(query, update)\n",
    "        # alternative method is to create each update dictionary, store them all in a list, and then pass that \n",
    "        # list to update_many() at the end of the function. \n",
    "        \n",
    "update_birthdays(names_list, birthdays_list)"
   ]
  },
  {
   "cell_type": "code",
   "execution_count": 31,
   "metadata": {
    "scrolled": true
   },
   "outputs": [
    {
     "data": {
      "text/plain": [
       "[{'_id': ObjectId('5d34beda0b081fad65634e72'),\n",
       "  'Name': 'John Smith',\n",
       "  'Email': 'j.smith@thesmiths.com',\n",
       "  'Mailing_Address': '367 55th St., apt 2A',\n",
       "  'Balance': 0.0,\n",
       "  'Notes': 'Called technical support, issue not yet resolved.',\n",
       "  'Birthday': '02/20/1986'},\n",
       " {'_id': ObjectId('5d34beda0b081fad65634e73'),\n",
       "  'Name': 'Jane Smith',\n",
       "  'Email': 'jane_smith@thesmiths.com',\n",
       "  'Balance': 25.0,\n",
       "  'Birthday': '07/07/1983'},\n",
       " {'_id': ObjectId('5d34beda0b081fad65634e74'),\n",
       "  'Name': 'Adam Enbar',\n",
       "  'Email': 'adam@theflatironschool.com',\n",
       "  'Mailing_Address': '11 Broadway',\n",
       "  'Balance': 14.99,\n",
       "  'Notes': 'Set up on recurring billing cycle.',\n",
       "  'Birthday': '12/02/0982'},\n",
       " {'_id': ObjectId('5d34beda0b081fad65634e75'),\n",
       "  'Name': 'Avi Flombaum',\n",
       "  'Email': 'avi@theflatironschool.com',\n",
       "  'Mailing_Address': '11 Broadway',\n",
       "  'Balance': 0.0,\n",
       "  'Birthday': '04/17/1983'},\n",
       " {'_id': ObjectId('5d34beda0b081fad65634e76'),\n",
       "  'Name': 'Steven S.',\n",
       "  'Email': 'steven.s@gmail.net',\n",
       "  'Balance': -20.23,\n",
       "  'Notes': 'Refunded for overpayment due to price match guarantee.',\n",
       "  'Birthday': '08/30/1991'}]"
      ]
     },
     "execution_count": 31,
     "metadata": {},
     "output_type": "execute_result"
    }
   ],
   "source": [
    "[i for i in mycollection.find()]"
   ]
  },
  {
   "cell_type": "code",
   "execution_count": 97,
   "metadata": {},
   "outputs": [],
   "source": [
    "def reverse(x):\n",
    "        \"\"\"\n",
    "        :type x: int\n",
    "        :rtype: int\n",
    "        \"\"\"\n",
    "        minus = False\n",
    "        container = []\n",
    "        if x < 0:\n",
    "            x = -x\n",
    "            minus = True\n",
    "        for i in range(len(str(x))):\n",
    "            print(i)\n",
    "            print(int(str(x)[i]))\n",
    "            print (int(str(x)[i])*10**len(str(x)[:i]))\n",
    "            container.append(int(str(x)[i])*10**len(str(x)[:i]))\n",
    "        return -sum(container) if minus == True else sum(container)"
   ]
  },
  {
   "cell_type": "code",
   "execution_count": 98,
   "metadata": {},
   "outputs": [
    {
     "name": "stdout",
     "output_type": "stream",
     "text": [
      "0\n",
      "1\n",
      "1\n",
      "1\n",
      "2\n",
      "20\n",
      "2\n",
      "3\n",
      "300\n"
     ]
    },
    {
     "data": {
      "text/plain": [
       "321"
      ]
     },
     "execution_count": 98,
     "metadata": {},
     "output_type": "execute_result"
    }
   ],
   "source": [
    "reverse(123)"
   ]
  },
  {
   "cell_type": "code",
   "execution_count": null,
   "metadata": {},
   "outputs": [],
   "source": []
  },
  {
   "cell_type": "code",
   "execution_count": null,
   "metadata": {},
   "outputs": [],
   "source": []
  }
 ],
 "metadata": {
  "kernelspec": {
   "display_name": "Python 3",
   "language": "python",
   "name": "python3"
  },
  "language_info": {
   "codemirror_mode": {
    "name": "ipython",
    "version": 3
   },
   "file_extension": ".py",
   "mimetype": "text/x-python",
   "name": "python",
   "nbconvert_exporter": "python",
   "pygments_lexer": "ipython3",
   "version": "3.7.3"
  }
 },
 "nbformat": 4,
 "nbformat_minor": 2
}
